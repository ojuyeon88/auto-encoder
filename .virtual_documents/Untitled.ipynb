import tensorflow as tf
from tensorflow.keras.layers import Input, Dense, Lambda
from tensorflow.keras.models import Model
from tensorflow.keras import backend as K

# 입력 데이터의 차원
input_dim = 1000  
latent_dim1 = 128  
latent_dim2 = 64  
latent_dim3 = 32 

# 인코더 정의
input_layer = Input(shape=(input_dim,))
encoder = Dense(512, activation="relu")(input_layer)
encoder = Dense(256, activation="relu")(encoder)

# 다중 잠재 공간 생성
latent_layer1 = Dense(latent_dim1, activation="relu")(encoder)
latent_layer2 = Dense(latent_dim2, activation="relu")(latent_layer1)
latent_layer3 = Dense(latent_dim3, activation="relu")(latent_layer2)

# 디코더 정의
decoder = Dense(latent_dim2, activation="relu")(latent_layer3)
decoder = Dense(latent_dim1, activation="relu")(decoder)
decoder = Dense(256, activation="relu")(decoder)
decoder = Dense(512, activation="relu")(decoder)
output_layer = Dense(input_dim, activation="sigmoid")(decoder)

# 모델 정의
autoencoder = Model(inputs=input_layer, outputs=output_layer)

# 모델 컴파일
autoencoder.compile(optimizer="adam", loss="mse")

# 모델 요약 출력
autoencoder.summary()

# 모델 학습
# X_train을 사용해 고차원 데이터로 학습 진행
# autoencoder.fit(X_train, X_train, epochs=50, batch_size=32, validation_split=0.2)

